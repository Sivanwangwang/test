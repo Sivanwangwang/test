{
 "cells": [
  {
   "cell_type": "code",
   "execution_count": 14,
   "metadata": {
    "collapsed": false,
    "scrolled": false
   },
   "outputs": [
    {
     "name": "stdout",
     "output_type": "stream",
     "text": [
      "['999058-999431', ' 999525-999612', ' 999691-999786', ' 999865-999972']\n",
      "['1013573-1013575', ' 1013983-1014477']\n",
      "['1203590-1203959', ' 1204398-1204485', ' 1205369-1205491', ' 1206384-1206570']\n",
      "1922\n",
      "0.0011589326568355318\n"
     ]
    }
   ],
   "source": [
    "import re\n",
    "import os\n",
    "from collections import OrderedDict\n",
    "from operator import itemgetter\n",
    "import time\n",
    "starttime=time.clock()\n",
    "exonLength=0\n",
    "overlapExons=OrderedDict()\n",
    "with open('exontest.txt','rt') as f:\n",
    "    for line in f:\n",
    "        if line.startswith('#'):                  \n",
    "            continue                             #如果遇到#开头的行，不读取然后继续\n",
    "        #print(line)\n",
    "        line = line.strip()                      #去掉右侧的空格，生成新的行\n",
    "        #print(line)\n",
    "        lst = line.split('\\t')                     #行按照空格进行分割\n",
    "        #print(lst[-2])\n",
    "        if lst[-2] == '-':\n",
    "            continue                             #如果遇到倒数第二列是空的，用‘-’表示，不读取然后继续\n",
    "        lst[-2] =  re.sub('\\[|\\]','',lst[-2])     #将提取出的倒数第二列，进行去'[]'处理,re是正则表达式的意思\n",
    "        #print(lst[-2])\n",
    "        exons = lst[-2].split(',')                #按,将每个基因的exon分开\n",
    "        print(exons)\n",
    "        for exon in exons:\n",
    "            start = int(exon.split('-')[0])       #提取每个外显子的首与末尾\n",
    "            #print(exon.split('-')[0])\n",
    "            end = int(exon.split('-')[1])\n",
    "            coordinate=lst[0]+':'+exon\n",
    "            if coordinate not in overlapExons.keys():\n",
    "                overlapExons[coordinate]=1\n",
    "                exonLength += end -start              #将所有的外显子的首尾位置相减之后再加起来\n",
    "            \n",
    "print(exonLength)\n",
    "endtime=time.clock()\n",
    "print(endtime - starttime)"
   ]
  },
  {
   "cell_type": "code",
   "execution_count": null,
   "metadata": {
    "collapsed": true
   },
   "outputs": [],
   "source": []
  }
 ],
 "metadata": {
  "anaconda-cloud": {},
  "kernelspec": {
   "display_name": "Python [default]",
   "language": "python",
   "name": "python3"
  },
  "language_info": {
   "codemirror_mode": {
    "name": "ipython",
    "version": 3
   },
   "file_extension": ".py",
   "mimetype": "text/x-python",
   "name": "python",
   "nbconvert_exporter": "python",
   "pygments_lexer": "ipython3",
   "version": "3.5.2"
  }
 },
 "nbformat": 4,
 "nbformat_minor": 1
}
